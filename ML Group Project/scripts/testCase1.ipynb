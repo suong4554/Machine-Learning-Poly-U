{
 "cells": [
  {
   "cell_type": "code",
   "execution_count": 1,
   "metadata": {},
   "outputs": [],
   "source": [
    "from sklearn.model_selection import train_test_split\n",
    "from sklearn.linear_model import LinearRegression\n",
    "import matplotlib.pyplot as plt\n",
    "import pandas as pd\n",
    "import os"
   ]
  },
  {
   "cell_type": "code",
   "execution_count": 2,
   "metadata": {},
   "outputs": [],
   "source": [
    "#returnes the data from the Exel table:\n",
    "def loadDF(dir_path, fileName):\n",
    "    file = dir_path + \"\\\\data\\\\\" + fileName\n",
    "    data = pd.read_csv(file)\n",
    "    return data"
   ]
  },
  {
   "cell_type": "code",
   "execution_count": 3,
   "metadata": {},
   "outputs": [],
   "source": [
    "#load the training data frame:\n",
    "home_dir = os.path.abspath('').replace(\"scripts\", \"\")\n",
    "trainDF = loadDF(home_dir, \"train.csv\")"
   ]
  },
  {
   "cell_type": "code",
   "execution_count": 6,
   "metadata": {},
   "outputs": [],
   "source": [
    "# create the training set: (without \"target\" and \"id\" column)\n",
    "targetY = trainDF[\"target\"]\n",
    "trainX = trainDF.drop(\"target\",  axis = 1).drop(\"id\", axis = 1) "
   ]
  },
  {
   "cell_type": "code",
   "execution_count": 7,
   "metadata": {},
   "outputs": [
    {
     "name": "stdout",
     "output_type": "stream",
     "text": [
      "175    1.0\n",
      "176    1.0\n",
      "177    0.0\n",
      "178    0.0\n",
      "179    1.0\n",
      "180    1.0\n",
      "181    0.0\n",
      "182    0.0\n",
      "183    0.0\n",
      "184    1.0\n",
      "185    1.0\n",
      "186    1.0\n",
      "187    1.0\n",
      "188    1.0\n",
      "189    0.0\n",
      "190    1.0\n",
      "191    1.0\n",
      "192    1.0\n",
      "193    0.0\n",
      "194    0.0\n",
      "195    1.0\n",
      "196    1.0\n",
      "197    1.0\n",
      "198    0.0\n",
      "199    1.0\n",
      "200    1.0\n",
      "201    0.0\n",
      "202    1.0\n",
      "203    1.0\n",
      "204    1.0\n",
      "      ... \n",
      "220    1.0\n",
      "221    1.0\n",
      "222    1.0\n",
      "223    1.0\n",
      "224    1.0\n",
      "225    0.0\n",
      "226    1.0\n",
      "227    0.0\n",
      "228    0.0\n",
      "229    1.0\n",
      "230    1.0\n",
      "231    1.0\n",
      "232    1.0\n",
      "233    0.0\n",
      "234    0.0\n",
      "235    1.0\n",
      "236    1.0\n",
      "237    1.0\n",
      "238    1.0\n",
      "239    0.0\n",
      "240    0.0\n",
      "241    1.0\n",
      "242    1.0\n",
      "243    0.0\n",
      "244    0.0\n",
      "245    0.0\n",
      "246    0.0\n",
      "247    0.0\n",
      "248    1.0\n",
      "249    0.0\n",
      "Name: target, Length: 75, dtype: float64\n"
     ]
    }
   ],
   "source": [
    "# take 75 examples for testing:\n",
    "testX = trainX.tail(75)\n",
    "testY = targetY.tail(75)\n",
    "# the 250-75 are used for training:\n",
    "targetY = targetY.head(250-75)\n",
    "trainX = trainX.head(250-75)\n",
    "#print(testY)"
   ]
  },
  {
   "cell_type": "code",
   "execution_count": 8,
   "metadata": {},
   "outputs": [
    {
     "data": {
      "text/plain": [
       "LinearRegression(copy_X=True, fit_intercept=True, n_jobs=None, normalize=False)"
      ]
     },
     "execution_count": 8,
     "metadata": {},
     "output_type": "execute_result"
    }
   ],
   "source": [
    "#apply Linear Regression:\n",
    "lm = LinearRegression()\n",
    "lm.fit(trainX, targetY)"
   ]
  },
  {
   "cell_type": "code",
   "execution_count": 9,
   "metadata": {},
   "outputs": [
    {
     "name": "stdout",
     "output_type": "stream",
     "text": [
      "[ 0.96942434  1.69658284 -0.1797317   0.35775089  0.97899406  0.47462353\n",
      "  0.4217615   0.61914357 -0.05576145  0.82550804  1.17600284  1.07244631\n",
      "  0.83635237  0.7150512   0.93396374  0.51196086  0.91724449  0.82040615\n",
      "  1.51723243 -0.34067332 -0.1083442   0.04784531  1.48976704  0.19102015\n",
      "  1.07235295  1.13732003  0.95950762  0.931116    1.46306504  0.33095052\n",
      "  0.41880331  0.39661888  0.50195542  0.41480531  0.58116254  0.26413066\n",
      "  0.68769624  1.43548704  0.64195758  0.50831898  0.44691663  1.03237301\n",
      "  0.05617782  1.45480452  0.50135763  0.47096929  0.96342558  1.02337838\n",
      "  1.22181588  0.79289028  0.22775491  1.17007026  0.72899444  0.23770877\n",
      "  0.8397181  -0.21477948  0.26360333  1.03167701  0.81178389  0.9702604\n",
      "  0.51574626  0.62872509  0.71956304  0.46455763  1.11541402  1.32431728\n",
      "  0.55959037  0.23255097  0.88367684  0.36379422  0.12201143  0.56066771\n",
      "  0.77950196  0.38540365 -0.04749141]\n"
     ]
    }
   ],
   "source": [
    "#predict the 75 test results: \n",
    "Y_pred = lm.predict(testX)\n",
    "#print(Y_pred)"
   ]
  },
  {
   "cell_type": "code",
   "execution_count": 10,
   "metadata": {},
   "outputs": [],
   "source": [
    "# counts the equal values of 2 lists:\n",
    "def intersect(list1, list2):\n",
    "    counter = 0\n",
    "    for x in range(len(list1)):\n",
    "        if list1[x] == list2[x]: \n",
    "            counter += 1\n",
    "    return counter"
   ]
  },
  {
   "cell_type": "code",
   "execution_count": 11,
   "metadata": {},
   "outputs": [],
   "source": [
    "# cast the results to 0 ant 1:\n",
    "for x, data in enumerate(Y_pred):\n",
    "    if data > 0.5: \n",
    "        Y_pred[x] = 1 \n",
    "    else:\n",
    "        Y_pred[x] = 0"
   ]
  },
  {
   "cell_type": "code",
   "execution_count": 12,
   "metadata": {},
   "outputs": [
    {
     "name": "stdout",
     "output_type": "stream",
     "text": [
      "0.6\n"
     ]
    }
   ],
   "source": [
    "#print the hits:\n",
    "hits = intersect(Y_pred.tolist(), testY.tolist())\n",
    "print(hits/len(testY))"
   ]
  },
  {
   "cell_type": "code",
   "execution_count": null,
   "metadata": {},
   "outputs": [],
   "source": []
  }
 ],
 "metadata": {
  "kernelspec": {
   "display_name": "Python 3",
   "language": "python",
   "name": "python3"
  },
  "language_info": {
   "codemirror_mode": {
    "name": "ipython",
    "version": 3
   },
   "file_extension": ".py",
   "mimetype": "text/x-python",
   "name": "python",
   "nbconvert_exporter": "python",
   "pygments_lexer": "ipython3",
   "version": "3.7.3"
  }
 },
 "nbformat": 4,
 "nbformat_minor": 2
}
