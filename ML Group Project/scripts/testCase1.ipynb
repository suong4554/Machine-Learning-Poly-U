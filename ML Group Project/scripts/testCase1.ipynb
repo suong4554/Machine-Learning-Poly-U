{
 "cells": [
  {
   "cell_type": "code",
   "execution_count": 53,
   "metadata": {},
   "outputs": [],
   "source": [
    "from sklearn.model_selection import train_test_split\n",
    "from sklearn.linear_model import LinearRegression\n",
    "import matplotlib.pyplot as plt\n",
    "import pandas as pd\n",
    "import os"
   ]
  },
  {
   "cell_type": "code",
   "execution_count": 54,
   "metadata": {},
   "outputs": [],
   "source": [
    "#returnes the data from the Exel table:\n",
    "def loadDF(dir_path, fileName):\n",
    "    file = dir_path + \"\\\\data\\\\\" + fileName\n",
    "    data = pd.read_csv(file)\n",
    "    return data"
   ]
  },
  {
   "cell_type": "code",
   "execution_count": 55,
   "metadata": {},
   "outputs": [],
   "source": [
    "#load the training data frame:\n",
    "home_dir = os.path.abspath('').replace(\"scripts\", \"\")\n",
    "trainDF = loadDF(home_dir, \"train.csv\")"
   ]
  },
  {
   "cell_type": "code",
   "execution_count": 56,
   "metadata": {},
   "outputs": [],
   "source": [
    "# create the training set: (without \"target\" and \"id\" column)\n",
    "trainX = trainDF.drop(\"target\",  axis = 1).trainX.drop(\"id\", axis = 1) "
   ]
  },
  {
   "cell_type": "code",
   "execution_count": 57,
   "metadata": {},
   "outputs": [
    {
     "name": "stdout",
     "output_type": "stream",
     "text": [
      "100    1.0\n",
      "101    0.0\n",
      "102    0.0\n",
      "103    1.0\n",
      "104    0.0\n",
      "105    1.0\n",
      "106    1.0\n",
      "107    0.0\n",
      "108    0.0\n",
      "109    1.0\n",
      "110    1.0\n",
      "111    1.0\n",
      "112    1.0\n",
      "113    1.0\n",
      "114    0.0\n",
      "115    1.0\n",
      "116    1.0\n",
      "117    0.0\n",
      "118    0.0\n",
      "119    1.0\n",
      "120    0.0\n",
      "121    1.0\n",
      "122    0.0\n",
      "123    1.0\n",
      "124    0.0\n",
      "125    1.0\n",
      "126    0.0\n",
      "127    0.0\n",
      "128    0.0\n",
      "129    1.0\n",
      "      ... \n",
      "145    1.0\n",
      "146    1.0\n",
      "147    1.0\n",
      "148    0.0\n",
      "149    1.0\n",
      "150    0.0\n",
      "151    1.0\n",
      "152    1.0\n",
      "153    0.0\n",
      "154    0.0\n",
      "155    1.0\n",
      "156    1.0\n",
      "157    0.0\n",
      "158    0.0\n",
      "159    1.0\n",
      "160    1.0\n",
      "161    0.0\n",
      "162    1.0\n",
      "163    1.0\n",
      "164    0.0\n",
      "165    1.0\n",
      "166    1.0\n",
      "167    1.0\n",
      "168    0.0\n",
      "169    0.0\n",
      "170    0.0\n",
      "171    0.0\n",
      "172    0.0\n",
      "173    1.0\n",
      "174    1.0\n",
      "Name: target, Length: 75, dtype: float64\n"
     ]
    }
   ],
   "source": [
    "# take 75 examples for testing:\n",
    "testX = trainX.tail(75)\n",
    "testY = targetY.tail(75)\n",
    "# the 250-75 are used for training:\n",
    "targetY = targetY.head(250-75)\n",
    "trainX = trainX.head(250-75)\n",
    "print(testY)"
   ]
  },
  {
   "cell_type": "code",
   "execution_count": 48,
   "metadata": {},
   "outputs": [
    {
     "data": {
      "text/plain": [
       "LinearRegression(copy_X=True, fit_intercept=True, n_jobs=None, normalize=False)"
      ]
     },
     "execution_count": 48,
     "metadata": {},
     "output_type": "execute_result"
    }
   ],
   "source": [
    "#apply Linear Regression:\n",
    "lm = LinearRegression()\n",
    "lm.fit(trainX, targetY)"
   ]
  },
  {
   "cell_type": "code",
   "execution_count": 49,
   "metadata": {},
   "outputs": [],
   "source": [
    "#predict the 75 test results: \n",
    "Y_pred = lm.predict(testX)\n",
    "print(Y_pred)"
   ]
  },
  {
   "cell_type": "code",
   "execution_count": 50,
   "metadata": {},
   "outputs": [],
   "source": [
    "# counts the equal values of 2 lists:\n",
    "def intersect(list1, list2):\n",
    "    counter = 0\n",
    "    for x in range(len(list1)):\n",
    "        if list1[x] == list2[x]: \n",
    "            counter += 1\n",
    "    return counter"
   ]
  },
  {
   "cell_type": "code",
   "execution_count": 51,
   "metadata": {},
   "outputs": [],
   "source": [
    "# cast the results to 0 ant 1:\n",
    "for x, data in enumerate(Y_pred):\n",
    "    if data > 0.5: \n",
    "        Y_pred[x] = 1 \n",
    "    else:\n",
    "        Y_pred[x] = 0"
   ]
  },
  {
   "cell_type": "code",
   "execution_count": 52,
   "metadata": {},
   "outputs": [
    {
     "name": "stdout",
     "output_type": "stream",
     "text": [
      "0.4\n"
     ]
    }
   ],
   "source": [
    "#print the hits:\n",
    "hits = intersect(Y_pred.tolist(), testY.tolist())\n",
    "print(hits/len(testY))"
   ]
  },
  {
   "cell_type": "code",
   "execution_count": null,
   "metadata": {},
   "outputs": [],
   "source": []
  }
 ],
 "metadata": {
  "kernelspec": {
   "display_name": "Python 3",
   "language": "python",
   "name": "python3"
  },
  "language_info": {
   "codemirror_mode": {
    "name": "ipython",
    "version": 3
   },
   "file_extension": ".py",
   "mimetype": "text/x-python",
   "name": "python",
   "nbconvert_exporter": "python",
   "pygments_lexer": "ipython3",
   "version": "3.7.3"
  }
 },
 "nbformat": 4,
 "nbformat_minor": 2
}
