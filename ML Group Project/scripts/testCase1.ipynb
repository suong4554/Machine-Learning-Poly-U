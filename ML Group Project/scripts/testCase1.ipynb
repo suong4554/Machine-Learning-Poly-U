{
 "cells": [
  {
   "cell_type": "code",
   "execution_count": 23,
   "metadata": {},
   "outputs": [],
   "source": [
    "from sklearn.model_selection import train_test_split\n",
    "from sklearn.linear_model import LinearRegression\n",
    "import matplotlib.pyplot as plt\n",
    "import pandas as pd\n",
    "import os"
   ]
  },
  {
   "cell_type": "code",
   "execution_count": 24,
   "metadata": {},
   "outputs": [],
   "source": [
    "#returnes the data from the Exel table:\n",
    "def loadDF(dir_path, fileName):\n",
    "    file = dir_path + \"\\\\data\\\\\" + fileName\n",
    "    data = pd.read_csv(file)\n",
    "    return data"
   ]
  },
  {
   "cell_type": "code",
   "execution_count": null,
   "metadata": {},
   "outputs": [],
   "source": [
    "#load the training data frame:\n",
    "home_dir = os.path.abspath('').replace(\"scripts\", \"\")\n",
    "trainDF = loadDF(home_dir, \"train.csv\")"
   ]
  },
  {
   "cell_type": "code",
   "execution_count": 25,
   "metadata": {},
   "outputs": [],
   "source": [
    "# create the training set: (without \"target\" and \"id\" column)\n",
    "trainX = trainDF.drop(\"target\",  axis = 1)\n",
    "trainX = trainX.drop(\"id\", axis = 1) "
   ]
  },
  {
   "cell_type": "code",
   "execution_count": 26,
   "metadata": {},
   "outputs": [],
   "source": [
    "# take 75 examples for testing:\n",
    "testX = trainX.tail(75)\n",
    "testY = targetY.tail(75)\n",
    "# the 250-75 are used for training:\n",
    "targetY = targetY.head(250-75)\n",
    "trainX = trainX.head(250-75)"
   ]
  },
  {
   "cell_type": "code",
   "execution_count": 27,
   "metadata": {},
   "outputs": [
    {
     "data": {
      "text/plain": [
       "LinearRegression(copy_X=True, fit_intercept=True, n_jobs=None, normalize=False)"
      ]
     },
     "execution_count": 27,
     "metadata": {},
     "output_type": "execute_result"
    }
   ],
   "source": [
    "#apply Linear Regression:\n",
    "lm = LinearRegression()\n",
    "lm.fit(trainX, targetY)"
   ]
  },
  {
   "cell_type": "code",
   "execution_count": 28,
   "metadata": {},
   "outputs": [],
   "source": [
    "#predict the 75 test results: \n",
    "Y_pred = lm.predict(testX)"
   ]
  },
  {
   "cell_type": "code",
   "execution_count": 29,
   "metadata": {},
   "outputs": [],
   "source": [
    "def intersect(list1, list2):\n",
    "    counter = 0\n",
    "    for x in range(len(list1)):\n",
    "        if list1[x] == list2[x]: \n",
    "            counter += 1\n",
    "    return counter"
   ]
  },
  {
   "cell_type": "code",
   "execution_count": 32,
   "metadata": {},
   "outputs": [
    {
     "name": "stdout",
     "output_type": "stream",
     "text": [
      "0.6\n"
     ]
    }
   ],
   "source": [
    "for x, data in enumerate(Y_pred):\n",
    "    if data > 0.5: \n",
    "        Y_pred[x] = 1 \n",
    "    else:\n",
    "        Y_pred[x] = 0\n",
    "\n",
    "hits = intersect(Y_pred.tolist(), testY.tolist())\n",
    "print(hits/len(testY))\n"
   ]
  },
  {
   "cell_type": "code",
   "execution_count": null,
   "metadata": {},
   "outputs": [],
   "source": []
  }
 ],
 "metadata": {
  "kernelspec": {
   "display_name": "Python 3",
   "language": "python",
   "name": "python3"
  },
  "language_info": {
   "codemirror_mode": {
    "name": "ipython",
    "version": 3
   },
   "file_extension": ".py",
   "mimetype": "text/x-python",
   "name": "python",
   "nbconvert_exporter": "python",
   "pygments_lexer": "ipython3",
   "version": "3.7.3"
  }
 },
 "nbformat": 4,
 "nbformat_minor": 2
}
